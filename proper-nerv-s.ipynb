{
 "cells": [
  {
   "cell_type": "code",
   "execution_count": 1,
   "id": "90c262ea",
   "metadata": {
    "_cell_guid": "b1076dfc-b9ad-4769-8c92-a6c4dae69d19",
    "_uuid": "8f2839f25d086af736a60e9eeb907d3b93b6e0e5",
    "execution": {
     "iopub.execute_input": "2024-03-27T12:56:52.049776Z",
     "iopub.status.busy": "2024-03-27T12:56:52.049261Z",
     "iopub.status.idle": "2024-03-27T12:56:52.676536Z",
     "shell.execute_reply": "2024-03-27T12:56:52.675591Z"
    },
    "papermill": {
     "duration": 0.633924,
     "end_time": "2024-03-27T12:56:52.678828",
     "exception": false,
     "start_time": "2024-03-27T12:56:52.044904",
     "status": "completed"
    },
    "tags": []
   },
   "outputs": [],
   "source": [
    "# This Python 3 environment comes with many helpful analytics libraries installed\n",
    "# It is defined by the kaggle/python Docker image: https://github.com/kaggle/docker-python\n",
    "# For example, here's several helpful packages to load\n",
    "\n",
    "import numpy as np # linear algebra\n",
    "import pandas as pd # data processing, CSV file I/O (e.g. pd.read_csv)\n",
    "\n",
    "# Input data files are available in the read-only \"../input/\" directory\n",
    "# For example, running this (by clicking run or pressing Shift+Enter) will list all files under the input directory\n",
    "\n",
    "import os\n",
    "for dirname, _, filenames in os.walk('/kaggle/input'):\n",
    "    for filename in filenames:\n",
    "        print(os.path.join(dirname, filename))\n",
    "\n",
    "# You can write up to 20GB to the current directory (/kaggle/working/) that gets preserved as output when you create a version using \"Save & Run All\" \n",
    "# You can also write temporary files to /kaggle/temp/, but they won't be saved outside of the current session"
   ]
  },
  {
   "cell_type": "code",
   "execution_count": 2,
   "id": "8c2f3ed0",
   "metadata": {
    "execution": {
     "iopub.execute_input": "2024-03-27T12:56:52.685521Z",
     "iopub.status.busy": "2024-03-27T12:56:52.685173Z",
     "iopub.status.idle": "2024-03-27T12:57:16.311509Z",
     "shell.execute_reply": "2024-03-27T12:57:16.310626Z"
    },
    "papermill": {
     "duration": 23.631874,
     "end_time": "2024-03-27T12:57:16.313581",
     "exception": false,
     "start_time": "2024-03-27T12:56:52.681707",
     "status": "completed"
    },
    "tags": []
   },
   "outputs": [
    {
     "name": "stdout",
     "output_type": "stream",
     "text": [
      "Cloning into 'NeRV'...\r\n",
      "remote: Enumerating objects: 222, done.\u001b[K\r\n",
      "remote: Counting objects: 100% (35/35), done.\u001b[K\r\n",
      "remote: Compressing objects: 100% (34/34), done.\u001b[K\r\n",
      "remote: Total 222 (delta 24), reused 2 (delta 1), pack-reused 187\u001b[K\r\n",
      "Receiving objects: 100% (222/222), 292.29 MiB | 15.54 MiB/s, done.\r\n",
      "Resolving deltas: 100% (44/44), done.\r\n",
      "Updating files: 100% (140/140), done.\r\n"
     ]
    }
   ],
   "source": [
    "#cloning the forked version\n",
    "!git clone https://github.com/Milojez/NeRV.git\n"
   ]
  },
  {
   "cell_type": "code",
   "execution_count": 3,
   "id": "232d10d0",
   "metadata": {
    "execution": {
     "iopub.execute_input": "2024-03-27T12:57:16.335057Z",
     "iopub.status.busy": "2024-03-27T12:57:16.334756Z",
     "iopub.status.idle": "2024-03-27T12:57:16.339969Z",
     "shell.execute_reply": "2024-03-27T12:57:16.339193Z"
    },
    "papermill": {
     "duration": 0.01793,
     "end_time": "2024-03-27T12:57:16.341864",
     "exception": false,
     "start_time": "2024-03-27T12:57:16.323934",
     "status": "completed"
    },
    "tags": []
   },
   "outputs": [],
   "source": [
    "# #updating pip\n",
    "# !pip install --upgrade pip\n",
    "\n",
    "# #insatlling all packages in mysitepackages folder\n",
    "# !pip install torch==2.0 --target=/kaggle/working/mysitepackages\n",
    "# # !pip install numpy==1.19.2 --target=/kaggle/working/packages #problem\n",
    "# # !pip install pytorch_msssim==0.2.1 --target=/kaggle/working/packages #problem\n",
    "# !pip install tqdm==4.59.0 --target=/kaggle/working/mysitepackages\n",
    "# !pip install torchvision==0.9 --target=/kaggle/working/mysitepackages\n",
    "# !pip install dahuffman==0.4.1 --target=/kaggle/working/mysitepackages\n",
    "# !pip install Pillow==8.4.0 --target=/kaggle/working/mysitepackages\n",
    "# !pip install yaspin==2.1.0 --target=/kaggle/working/mysitepackages\n",
    "# !pip install tensorboard --target=/kaggle/working/mysitepackages\n",
    "\n",
    "# #downloading the newest version\n",
    "# !pip install pytorch-msssim --target=/kaggle/working/mysitepackages\n",
    "\n",
    "# add to system path\n",
    "import sys\n",
    "sys.path.append('/kaggle/working/mysitepackages')\n",
    "\n",
    "# #Done\n",
    "# print(\"packages have been downloaded\")"
   ]
  },
  {
   "cell_type": "code",
   "execution_count": 4,
   "id": "4a46c4ea",
   "metadata": {
    "execution": {
     "iopub.execute_input": "2024-03-27T12:57:16.362088Z",
     "iopub.status.busy": "2024-03-27T12:57:16.361815Z",
     "iopub.status.idle": "2024-03-27T12:57:29.828035Z",
     "shell.execute_reply": "2024-03-27T12:57:29.826974Z"
    },
    "papermill": {
     "duration": 13.478971,
     "end_time": "2024-03-27T12:57:29.830433",
     "exception": false,
     "start_time": "2024-03-27T12:57:16.351462",
     "status": "completed"
    },
    "tags": []
   },
   "outputs": [
    {
     "name": "stdout",
     "output_type": "stream",
     "text": [
      "Collecting pytorch-msssim\r\n",
      "  Downloading pytorch_msssim-1.0.0-py3-none-any.whl.metadata (8.0 kB)\r\n",
      "Requirement already satisfied: torch in /opt/conda/lib/python3.10/site-packages (from pytorch-msssim) (2.1.2)\r\n",
      "Requirement already satisfied: filelock in /opt/conda/lib/python3.10/site-packages (from torch->pytorch-msssim) (3.13.1)\r\n",
      "Requirement already satisfied: typing-extensions in /opt/conda/lib/python3.10/site-packages (from torch->pytorch-msssim) (4.9.0)\r\n",
      "Requirement already satisfied: sympy in /opt/conda/lib/python3.10/site-packages (from torch->pytorch-msssim) (1.12)\r\n",
      "Requirement already satisfied: networkx in /opt/conda/lib/python3.10/site-packages (from torch->pytorch-msssim) (3.2.1)\r\n",
      "Requirement already satisfied: jinja2 in /opt/conda/lib/python3.10/site-packages (from torch->pytorch-msssim) (3.1.2)\r\n",
      "Requirement already satisfied: fsspec in /opt/conda/lib/python3.10/site-packages (from torch->pytorch-msssim) (2024.3.0)\r\n",
      "Requirement already satisfied: MarkupSafe>=2.0 in /opt/conda/lib/python3.10/site-packages (from jinja2->torch->pytorch-msssim) (2.1.3)\r\n",
      "Requirement already satisfied: mpmath>=0.19 in /opt/conda/lib/python3.10/site-packages (from sympy->torch->pytorch-msssim) (1.3.0)\r\n",
      "Downloading pytorch_msssim-1.0.0-py3-none-any.whl (7.7 kB)\r\n",
      "Installing collected packages: pytorch-msssim\r\n",
      "Successfully installed pytorch-msssim-1.0.0\r\n"
     ]
    }
   ],
   "source": [
    "#TRAINING NeRV-S 1200\n",
    "#running the experiment for NeRV-S form table 2\n",
    "# Change directory to the directory containing the script\n",
    "\n",
    "\n",
    "os.chdir(\"/kaggle/working/NeRV\")\n",
    "!pip install pytorch-msssim \n",
    "\n",
    "# Run the script\n",
    "# !python train_nerv.py -e 1200 --lower-width 96 --num-blocks 1 --dataset bunny --frame_gap 1 \\\n",
    "#     --outf bunny_ab --embed 1.25_40 --stem_dim_num 512_1 --reduction 2 --fc_hw_dim 9_16_26 --expansion 1 \\\n",
    "#     --single_res --loss Fusion6 --warmup 0.2 --lr_type cosine --strides 5 2 2 2 2 --conv_type conv \\\n",
    "#     -b 1 --lr 0.0005 --norm none --act swish \n"
   ]
  },
  {
   "cell_type": "code",
   "execution_count": 5,
   "id": "0b67a874",
   "metadata": {
    "execution": {
     "iopub.execute_input": "2024-03-27T12:57:29.852919Z",
     "iopub.status.busy": "2024-03-27T12:57:29.852285Z",
     "iopub.status.idle": "2024-03-27T12:57:29.856793Z",
     "shell.execute_reply": "2024-03-27T12:57:29.855976Z"
    },
    "papermill": {
     "duration": 0.017664,
     "end_time": "2024-03-27T12:57:29.858622",
     "exception": false,
     "start_time": "2024-03-27T12:57:29.840958",
     "status": "completed"
    },
    "tags": []
   },
   "outputs": [],
   "source": [
    "# #EVALUATING NeRV-S 1200\n",
    "# os.chdir(\"/kaggle/working/NeRV\")\n",
    "# !pip install pytorch-msssim \n",
    "\n",
    "# python train_nerv.py -e 1200   --lower-width 96 --num-blocks 1 --dataset bunny --frame_gap 1 \\\n",
    "#     --outf bunny_ab --embed 1.25_40 --stem_dim_num 512_1  --reduction 2  --fc_hw_dim 9_16_26 --expansion 1  \\\n",
    "#     --single_res --loss Fusion6   --warmup 0.2 --lr_type cosine  --strides 5 2 2 2 2  --conv_type conv \\\n",
    "#     -b 1  --lr 0.0005 --norm none  --act swish \\\n",
    "#     --weight output/bunny_ab/bunny/embed1.25_40_512_1_fc_9_16_26__exp1.0_reduce2_low96_blk1_cycle1_gap1_e1200_warm240_b1_conv_lr0.0005_cosine_Fusion6_Strd5,2,2,2,2_SinRes_actswish_/model_latest.pth --eval_only \n"
   ]
  },
  {
   "cell_type": "code",
   "execution_count": 6,
   "id": "8eb10d4c",
   "metadata": {
    "execution": {
     "iopub.execute_input": "2024-03-27T12:57:29.880005Z",
     "iopub.status.busy": "2024-03-27T12:57:29.879360Z",
     "iopub.status.idle": "2024-03-27T13:00:10.131686Z",
     "shell.execute_reply": "2024-03-27T13:00:10.130569Z"
    },
    "papermill": {
     "duration": 160.265414,
     "end_time": "2024-03-27T13:00:10.134000",
     "exception": false,
     "start_time": "2024-03-27T12:57:29.868586",
     "status": "completed"
    },
    "tags": []
   },
   "outputs": [
    {
     "name": "stdout",
     "output_type": "stream",
     "text": [
      "Requirement already satisfied: pytorch-msssim in /opt/conda/lib/python3.10/site-packages (1.0.0)\r\n",
      "Requirement already satisfied: torch in /opt/conda/lib/python3.10/site-packages (from pytorch-msssim) (2.1.2)\r\n",
      "Requirement already satisfied: filelock in /opt/conda/lib/python3.10/site-packages (from torch->pytorch-msssim) (3.13.1)\r\n",
      "Requirement already satisfied: typing-extensions in /opt/conda/lib/python3.10/site-packages (from torch->pytorch-msssim) (4.9.0)\r\n",
      "Requirement already satisfied: sympy in /opt/conda/lib/python3.10/site-packages (from torch->pytorch-msssim) (1.12)\r\n",
      "Requirement already satisfied: networkx in /opt/conda/lib/python3.10/site-packages (from torch->pytorch-msssim) (3.2.1)\r\n",
      "Requirement already satisfied: jinja2 in /opt/conda/lib/python3.10/site-packages (from torch->pytorch-msssim) (3.1.2)\r\n",
      "Requirement already satisfied: fsspec in /opt/conda/lib/python3.10/site-packages (from torch->pytorch-msssim) (2024.3.0)\r\n",
      "Requirement already satisfied: MarkupSafe>=2.0 in /opt/conda/lib/python3.10/site-packages (from jinja2->torch->pytorch-msssim) (2.1.3)\r\n",
      "Requirement already satisfied: mpmath>=0.19 in /opt/conda/lib/python3.10/site-packages (from sympy->torch->pytorch-msssim) (1.3.0)\r\n",
      "2024-03-27 12:57:50.771307: E external/local_xla/xla/stream_executor/cuda/cuda_dnn.cc:9261] Unable to register cuDNN factory: Attempting to register factory for plugin cuDNN when one has already been registered\r\n",
      "2024-03-27 12:57:50.771446: E external/local_xla/xla/stream_executor/cuda/cuda_fft.cc:607] Unable to register cuFFT factory: Attempting to register factory for plugin cuFFT when one has already been registered\r\n",
      "2024-03-27 12:57:50.897208: E external/local_xla/xla/stream_executor/cuda/cuda_blas.cc:1515] Unable to register cuBLAS factory: Attempting to register factory for plugin cuBLAS when one has already been registered\r\n",
      "Namespace(vid=[None], scale=1, frame_gap=1, augment=0, dataset='bunny', test_gap=1, embed='1.25_40', stem_dim_num='512_1', fc_hw_dim='9_16_26', expansion=1.0, reduction=2, strides=[5, 2, 2, 2, 2], num_blocks=1, norm='none', act='swish', lower_width=96, single_res=True, conv_type='conv', workers=4, batchSize=1, not_resume_epoch=False, epochs=300, cycles=1, warmup=60, lr=0.0005, lr_type='cosine', lr_steps=[], beta=0.5, loss_type='Fusion6', lw=1.0, sigmoid=False, eval_only=True, eval_freq=50, quant_bit=-1, quant_axis=0, dump_images=True, eval_fps=False, prune_steps=[0.0], prune_ratio=1.0, manualSeed=1, init_method='tcp://127.0.0.1:9888', distributed=False, debug=False, print_freq=50, weight='checkpoints/nerv_S.pth', overwrite=False, outf='bunny_ab', suffix='')\r\n",
      "init_method: tcp://127.0.0.1:28418\r\n",
      "Namespace(vid=[None], scale=1, frame_gap=1, augment=0, dataset='bunny', test_gap=1, embed='1.25_40', stem_dim_num='512_1', fc_hw_dim='9_16_26', expansion=1.0, reduction=2, strides=[5, 2, 2, 2, 2], num_blocks=1, norm='none', act='swish', lower_width=96, single_res=True, conv_type='conv', workers=4, batchSize=1, not_resume_epoch=False, epochs=300, cycles=1, warmup=60, lr=0.0005, lr_type='cosine', lr_steps=[], beta=0.5, loss_type='Fusion6', lw=1.0, sigmoid=False, eval_only=True, eval_freq=50, quant_bit=-1, quant_axis=0, dump_images=True, eval_fps=False, prune_steps=[0.0], prune_ratio=1.0, manualSeed=1, init_method='tcp://127.0.0.1:28418', distributed=False, debug=False, print_freq=50, weight='checkpoints/nerv_S.pth', overwrite=False, outf='output/bunny_ab/bunny/embed1.25_40_512_1_fc_9_16_26__exp1.0_reduce2_low96_blk1_cycle1_gap1_e300_warm60_b1_conv_lr0.0005_cosine_Fusion6_Strd5,2,2,2,2_SinRes_eval_actswish_', suffix='', exp_id='bunny/embed1.25_40_512_1_fc_9_16_26__exp1.0_reduce2_low96_blk1_cycle1_gap1_e300_warm60_b1_conv_lr0.0005_cosine_Fusion6_Strd5,2,2,2,2_SinRes_eval_actswish_', ngpus_per_node=1, embed_length=80)\r\n",
      " Generator(\r\n",
      "  (stem): Sequential(\r\n",
      "    (0): Linear(in_features=80, out_features=512, bias=True)\r\n",
      "    (1): SiLU(inplace=True)\r\n",
      "    (2): Linear(in_features=512, out_features=3744, bias=True)\r\n",
      "    (3): SiLU(inplace=True)\r\n",
      "  )\r\n",
      "  (layers): ModuleList(\r\n",
      "    (0): NeRVBlock(\r\n",
      "      (conv): CustomConv(\r\n",
      "        (conv): Conv2d(26, 650, kernel_size=(3, 3), stride=(1, 1), padding=(1, 1))\r\n",
      "        (up_scale): PixelShuffle(upscale_factor=5)\r\n",
      "      )\r\n",
      "      (norm): Identity()\r\n",
      "      (act): SiLU(inplace=True)\r\n",
      "    )\r\n",
      "    (1): NeRVBlock(\r\n",
      "      (conv): CustomConv(\r\n",
      "        (conv): Conv2d(26, 384, kernel_size=(3, 3), stride=(1, 1), padding=(1, 1))\r\n",
      "        (up_scale): PixelShuffle(upscale_factor=2)\r\n",
      "      )\r\n",
      "      (norm): Identity()\r\n",
      "      (act): SiLU(inplace=True)\r\n",
      "    )\r\n",
      "    (2-4): 3 x NeRVBlock(\r\n",
      "      (conv): CustomConv(\r\n",
      "        (conv): Conv2d(96, 384, kernel_size=(3, 3), stride=(1, 1), padding=(1, 1))\r\n",
      "        (up_scale): PixelShuffle(upscale_factor=2)\r\n",
      "      )\r\n",
      "      (norm): Identity()\r\n",
      "      (act): SiLU(inplace=True)\r\n",
      "    )\r\n",
      "  )\r\n",
      "  (head_layers): ModuleList(\r\n",
      "    (0-3): 4 x None\r\n",
      "    (4): Conv2d(96, 3, kernel_size=(1, 1), stride=(1, 1))\r\n",
      "  )\r\n",
      ")\r\n",
      " Model Params: 3.201905M\r\n",
      "Use GPU: None for training\r\n",
      "=> loading checkpoint 'checkpoints/nerv_S.pth'\r\n",
      "=> loaded checkpoint 'checkpoints/nerv_S.pth' (epoch 2359)\r\n",
      "=> No resume checkpoint found at 'output/bunny_ab/bunny/embed1.25_40_512_1_fc_9_16_26__exp1.0_reduce2_low96_blk1_cycle1_gap1_e300_warm60_b1_conv_lr0.0005_cosine_Fusion6_Strd5,2,2,2,2_SinRes_eval_actswish_/model_latest.pth'\r\n",
      "Evaluation ...\r\n",
      "Saving predictions to output/bunny_ab/bunny/embed1.25_40_512_1_fc_9_16_26__exp1.0_reduce2_low96_blk1_cycle1_gap1_e300_warm60_b1_conv_lr0.0005_cosine_Fusion6_Strd5,2,2,2,2_SinRes_eval_actswish_/visualize\r\n",
      "Rank:None, Step [1/132], PSNR: 33.07, MSSSIM: 0.9728 FPS: 0.77\r\n",
      "Rank:None, Step [51/132], PSNR: 31.94, MSSSIM: 0.9622 FPS: 20.89\r\n",
      "Rank:None, Step [101/132], PSNR: 34.06, MSSSIM: 0.9726 FPS: 28.14\r\n",
      "2024_03_27_12_57_59\t Results for checkpoint: checkpoints/nerv_S.pth\r\n",
      "PSNR/ms_ssim on validate set for bit -1 with axis 0: 34.47/0.9758\r\n"
     ]
    }
   ],
   "source": [
    "os.chdir(\"/kaggle/working/NeRV\")\n",
    "!pip install pytorch-msssim\n",
    "\n",
    "!python train_nerv.py -e 300   --lower-width 96 --num-blocks 1 --dataset bunny --frame_gap 1 \\\n",
    "    --outf bunny_ab --embed 1.25_40 --stem_dim_num 512_1  --reduction 2  --fc_hw_dim 9_16_26 --expansion 1  \\\n",
    "    --single_res --loss Fusion6   --warmup 0.2 --lr_type cosine  --strides 5 2 2 2 2  --conv_type conv \\\n",
    "    -b 1  --lr 0.0005 --norm none  --act swish \\\n",
    "   --weight checkpoints/nerv_S.pth --eval_only  --dump_images"
   ]
  }
 ],
 "metadata": {
  "kaggle": {
   "accelerator": "gpu",
   "dataSources": [],
   "dockerImageVersionId": 30673,
   "isGpuEnabled": true,
   "isInternetEnabled": true,
   "language": "python",
   "sourceType": "notebook"
  },
  "kernelspec": {
   "display_name": "Python 3",
   "language": "python",
   "name": "python3"
  },
  "language_info": {
   "codemirror_mode": {
    "name": "ipython",
    "version": 3
   },
   "file_extension": ".py",
   "mimetype": "text/x-python",
   "name": "python",
   "nbconvert_exporter": "python",
   "pygments_lexer": "ipython3",
   "version": "3.10.13"
  },
  "papermill": {
   "default_parameters": {},
   "duration": 201.019321,
   "end_time": "2024-03-27T13:00:10.463870",
   "environment_variables": {},
   "exception": null,
   "input_path": "__notebook__.ipynb",
   "output_path": "__notebook__.ipynb",
   "parameters": {},
   "start_time": "2024-03-27T12:56:49.444549",
   "version": "2.5.0"
  }
 },
 "nbformat": 4,
 "nbformat_minor": 5
}
